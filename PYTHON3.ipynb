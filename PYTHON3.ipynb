{
 "cells": [
  {
   "cell_type": "code",
   "execution_count": null,
   "id": "cf325a1e",
   "metadata": {},
   "outputs": [],
   "source": [
    "1. What is the concept of an abstract superclass?\n",
    "\n",
    "ANS:\n",
    "    \n",
    "    An abstract superclass is one way to provide re-usable code. You can extend the abstract class and inherit the code.\n",
    "    This is sometimes more convenient than using static methods or object composition to share code. The abstract class\n",
    "    can \"fix\" parts of the code (by making it final)."
   ]
  },
  {
   "cell_type": "code",
   "execution_count": null,
   "id": "e60ffaa6",
   "metadata": {},
   "outputs": [],
   "source": [
    "2. What happens when a class statement's top level contains a basic assignment statement?"
   ]
  },
  {
   "cell_type": "code",
   "execution_count": null,
   "id": "1c0f2185",
   "metadata": {},
   "outputs": [],
   "source": [
    "3. Why does a class need to manually call a superclass's __init__ method?\n",
    "\n",
    "ANS:\n",
    "    The main reason for always calling base class _init__ is that base class may typically create member variable\n",
    "    and initialize them to defaults. So if you don't call base class init, none of that code would be executed \n",
    "    and you would end up with base class that has no member variables. Run this code"
   ]
  },
  {
   "cell_type": "code",
   "execution_count": null,
   "id": "14944f20",
   "metadata": {},
   "outputs": [],
   "source": [
    "4. How can you augment, instead of completely replacing, an inherited method?\n",
    "\n",
    "ANS:\n",
    "    A more sophisticated way to augment an inherited method involves forwarding. Message forwarding \n",
    "    allows you to augment an inherited method in such a way that it can perform its inherited action and some new action."
   ]
  },
  {
   "cell_type": "code",
   "execution_count": null,
   "id": "9a5650dc",
   "metadata": {},
   "outputs": [],
   "source": [
    "5. How is the local scope of a class different from that of a function?\n",
    "\n",
    "ANS:\n",
    "    \n",
    "Local scope is the area between an { and it's closing }. Function scope is the area between the opening { of a function and its closing },\n",
    "which may contain more \"local\" scopes. A label is visible in the entirety of the function within which it is defined,             \n",
    " e.g. int c is not visible outside its enclosing block\n",
    "    "
   ]
  },
  {
   "cell_type": "code",
   "execution_count": null,
   "id": "f5fd7828",
   "metadata": {},
   "outputs": [],
   "source": []
  }
 ],
 "metadata": {
  "kernelspec": {
   "display_name": "Python 3 (ipykernel)",
   "language": "python",
   "name": "python3"
  },
  "language_info": {
   "codemirror_mode": {
    "name": "ipython",
    "version": 3
   },
   "file_extension": ".py",
   "mimetype": "text/x-python",
   "name": "python",
   "nbconvert_exporter": "python",
   "pygments_lexer": "ipython3",
   "version": "3.9.7"
  }
 },
 "nbformat": 4,
 "nbformat_minor": 5
}
